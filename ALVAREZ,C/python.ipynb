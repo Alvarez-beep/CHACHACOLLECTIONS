{
 "cells": [
  {
   "cell_type": "code",
   "execution_count": 1,
   "metadata": {},
   "outputs": [
    {
     "name": "stdout",
     "output_type": "stream",
     "text": [
      "Length of the string: 14\n",
      "String in uppercase: HELLO, PYTHON!\n"
     ]
    }
   ],
   "source": [
    "# Example string\n",
    "my_string = \"Hello, Python!\"\n",
    "\n",
    "# 1. Find the length of the string\n",
    "length_of_string = len(my_string)\n",
    "print(\"Length of the string:\", length_of_string)\n",
    "\n",
    "# 2. Convert the string to uppercase\n",
    "uppercase_string = my_string.upper()\n",
    "print(\"String in uppercase:\", uppercase_string)\n"
   ]
  }
 ],
 "metadata": {
  "kernelspec": {
   "display_name": "Python 3",
   "language": "python",
   "name": "python3"
  },
  "language_info": {
   "codemirror_mode": {
    "name": "ipython",
    "version": 3
   },
   "file_extension": ".py",
   "mimetype": "text/x-python",
   "name": "python",
   "nbconvert_exporter": "python",
   "pygments_lexer": "ipython3",
   "version": "3.11.9"
  }
 },
 "nbformat": 4,
 "nbformat_minor": 2
}
